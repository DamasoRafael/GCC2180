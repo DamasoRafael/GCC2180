{
 "cells": [
  {
   "cell_type": "code",
   "execution_count": null,
   "id": "e592bb04",
   "metadata": {},
   "outputs": [],
   "source": [
    "from leitura import ler_instancia_por_tipo\n",
    "from grafo import construir_grafo\n",
    "\n",
    "# Caminho para sua instância (ajuste se necessário)\n",
    "caminho = \"Ins/BHW3.dat\"\n",
    "dados = ler_instancia_por_tipo(caminho)\n",
    "grafo = construir_grafo(dados)\n"
   ]
  },
  {
   "cell_type": "code",
   "execution_count": null,
   "id": "306e4bda",
   "metadata": {},
   "outputs": [],
   "source": [
    "import networkx as nx\n",
    "import matplotlib.pyplot as plt\n",
    "\n",
    "# Criação do grafo para visualização\n",
    "G = nx.DiGraph()\n",
    "\n",
    "# Adiciona nós\n",
    "for no, _ in grafo.nos_requeridos:\n",
    "    G.add_node(no)\n",
    "\n",
    "# Arestas bidirecionais (em azul)\n",
    "for u, v, custo, tipo in grafo.conexoes:\n",
    "    if tipo == 'E':\n",
    "        G.add_edge(u, v, weight=custo)\n",
    "\n",
    "# Arcos direcionais (em vermelho)\n",
    "for u, v, custo, tipo in grafo.conexoes:\n",
    "    if tipo == 'A':\n",
    "        G.add_edge(u, v, weight=custo)\n",
    "\n",
    "# Plotagem\n",
    "pos = nx.spring_layout(G, seed=42)\n",
    "plt.figure(figsize=(10, 6))\n",
    "nx.draw(G, pos, with_labels=True, node_color='lightgray', edge_color='gray', node_size=500, font_size=10)\n",
    "edge_labels = nx.get_edge_attributes(G, 'weight')\n",
    "nx.draw_networkx_edge_labels(G, pos, edge_labels=edge_labels)\n",
    "plt.title(\"Esboço do Grafo\")\n",
    "plt.show()\n"
   ]
  },
  {
   "cell_type": "code",
   "execution_count": null,
   "id": "90bedbfc",
   "metadata": {},
   "outputs": [],
   "source": [
    "def estatisticas(g):\n",
    "    total_nos = g.num_vertices\n",
    "    total_req_nos = len(g.nos_requeridos)\n",
    "    total_req_arestas = len(g.arestas_requeridas)\n",
    "    total_req_arcos = len(g.arcos_requeridos)\n",
    "    total_conexoes = len(g.conexoes)\n",
    "\n",
    "    return {\n",
    "        \"Nome\": g.nome,\n",
    "        \"Capacidade\": g.capacidade,\n",
    "        \"Depósito\": g.deposito,\n",
    "        \"Nós totais\": total_nos,\n",
    "        \"Nós requeridos\": total_req_nos,\n",
    "        \"Arestas requeridas\": total_req_arestas,\n",
    "        \"Arcos requeridos\": total_req_arcos,\n",
    "        \"Conexões totais\": total_conexoes,\n",
    "    }\n",
    "\n",
    "import pandas as pd\n",
    "estat = estatisticas(grafo)\n",
    "df = pd.DataFrame([estat])\n",
    "df.T.style.set_properties(**{\"text-align\": \"left\"})\n"
   ]
  }
 ],
 "metadata": {
  "kernelspec": {
   "display_name": "base",
   "language": "python",
   "name": "python3"
  },
  "language_info": {
   "codemirror_mode": {
    "name": "ipython",
    "version": 3
   },
   "file_extension": ".py",
   "mimetype": "text/x-python",
   "name": "python",
   "nbconvert_exporter": "python",
   "pygments_lexer": "ipython3",
   "version": "3.11.5"
  }
 },
 "nbformat": 4,
 "nbformat_minor": 5
}
